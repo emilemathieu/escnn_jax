{
 "cells": [
  {
   "cell_type": "code",
   "execution_count": 1,
   "metadata": {},
   "outputs": [
    {
     "name": "stderr",
     "output_type": "stream",
     "text": [
      "/tmp/ipykernel_11716/1119636429.py:13: DeprecationWarning: `set_matplotlib_formats` is deprecated since IPython 7.23, directly use `matplotlib_inline.backend_inline.set_matplotlib_formats()`\n",
      "  set_matplotlib_formats('svg', 'pdf') # For export\n"
     ]
    }
   ],
   "source": [
    "# import torch\n",
    "import numpy as np\n",
    "import scipy\n",
    "import os\n",
    "\n",
    "np.set_printoptions(precision=3, suppress=True, linewidth=10000, threshold=100000)\n",
    "\n",
    "import matplotlib\n",
    "%matplotlib inline\n",
    "import matplotlib.pyplot as plt\n",
    "# If the fonts in the plots are incorrectly rendered, comment out the next two lines\n",
    "from IPython.display import set_matplotlib_formats\n",
    "set_matplotlib_formats('svg', 'pdf') # For export\n",
    "matplotlib.rcParams['lines.linewidth'] = 2.0\n",
    "\n",
    "import urllib.request\n",
    "from urllib.error import HTTPError\n",
    "\n",
    "# CHECKPOINT_PATH = \"../../saved_models/DL2/GDL\""
   ]
  },
  {
   "cell_type": "code",
   "execution_count": 2,
   "metadata": {},
   "outputs": [
    {
     "name": "stderr",
     "output_type": "stream",
     "text": [
      "/homes/ebm32/escnn_jax/escnn/group/groups/so3group.py:20: UserWarning: `py3nj` package not found! Will use a numerical method to compute the SO(3) Clebsh-Gordan coefficents. This is much slower but the coefficients will be cached on disk.\n",
      "  warnings.warn(\"`py3nj` package not found! Will use a numerical method to compute the SO(3) Clebsh-Gordan coefficents. This is much slower but the coefficients will be cached on disk.\")\n"
     ]
    }
   ],
   "source": [
    "from escnn.group import *\n"
   ]
  },
  {
   "cell_type": "code",
   "execution_count": 3,
   "metadata": {},
   "outputs": [
    {
     "data": {
      "text/plain": [
       "8"
      ]
     },
     "execution_count": 3,
     "metadata": {},
     "output_type": "execute_result"
    }
   ],
   "source": [
    "G = cyclic_group(N=8)\n",
    "\n",
    "# We can verify that the order of this group is 8:\n",
    "G.order()"
   ]
  },
  {
   "cell_type": "code",
   "execution_count": 4,
   "metadata": {},
   "outputs": [
    {
     "data": {
      "text/plain": [
       "0[2pi/8]"
      ]
     },
     "execution_count": 4,
     "metadata": {},
     "output_type": "execute_result"
    }
   ],
   "source": [
    "G.identity"
   ]
  },
  {
   "cell_type": "code",
   "execution_count": 9,
   "metadata": {},
   "outputs": [
    {
     "data": {
      "text/plain": [
       "3[2pi/8]"
      ]
     },
     "execution_count": 9,
     "metadata": {},
     "output_type": "execute_result"
    }
   ],
   "source": [
    "G.sample()\n"
   ]
  },
  {
   "cell_type": "code",
   "execution_count": 10,
   "metadata": {},
   "outputs": [
    {
     "name": "stdout",
     "output_type": "stream",
     "text": [
      "2[2pi/8]\n",
      "1[2pi/8]\n",
      "3[2pi/8]\n",
      "6[2pi/8]\n"
     ]
    }
   ],
   "source": [
    "a = G.sample()\n",
    "b = G.sample()\n",
    "print(a)\n",
    "print(b)\n",
    "print(a @ b)\n",
    "print(~a)"
   ]
  },
  {
   "cell_type": "code",
   "execution_count": 12,
   "metadata": {},
   "outputs": [],
   "source": [
    "rho = G.trivial_representation"
   ]
  },
  {
   "cell_type": "code",
   "execution_count": 13,
   "metadata": {},
   "outputs": [
    {
     "name": "stdout",
     "output_type": "stream",
     "text": [
      "[[1.]]\n",
      "[[1.]]\n"
     ]
    }
   ],
   "source": [
    "g1 = G.sample()\n",
    "g2 = G.sample()\n",
    "print(rho(g1) @ rho(g2))\n",
    "print(rho(g1 @ g2))"
   ]
  },
  {
   "cell_type": "code",
   "execution_count": 14,
   "metadata": {},
   "outputs": [
    {
     "data": {
      "text/plain": [
       "1"
      ]
     },
     "execution_count": 14,
     "metadata": {},
     "output_type": "execute_result"
    }
   ],
   "source": [
    "rho.size"
   ]
  },
  {
   "cell_type": "code",
   "execution_count": 15,
   "metadata": {},
   "outputs": [
    {
     "name": "stdout",
     "output_type": "stream",
     "text": [
      "g1=0.7103245605553715, g2=5.306383668324507, g1 * g2 = 6.016708228879879\n",
      "\n",
      "rho(g1) @ rho(g2)\n",
      "[[ 0.965  0.263]\n",
      " [-0.263  0.965]]\n",
      "\n",
      "rho(g1 * g2)\n",
      "[[ 0.965  0.263]\n",
      " [-0.263  0.965]]\n"
     ]
    }
   ],
   "source": [
    "G = so2_group()\n",
    "rho = G.standard_representation()\n",
    "\n",
    "g1 = G.sample()\n",
    "g2 = G.sample()\n",
    "print(f'g1={g1}, g2={g2}, g1 * g2 = {g1 @ g2}')\n",
    "print()\n",
    "print('rho(g1) @ rho(g2)')\n",
    "print(rho(g1) @ rho(g2))\n",
    "print()\n",
    "print('rho(g1 * g2)')\n",
    "print(rho(g1 @ g2))"
   ]
  },
  {
   "cell_type": "code",
   "execution_count": 17,
   "metadata": {},
   "outputs": [
    {
     "name": "stdout",
     "output_type": "stream",
     "text": [
      "[[-0.255  0.967]\n",
      " [-0.967 -0.255]]\n",
      "\n",
      "[[-0.255  0.967  0.     0.   ]\n",
      " [-0.967 -0.255  0.     0.   ]\n",
      " [ 0.     0.    -0.255  0.967]\n",
      " [ 0.     0.    -0.967 -0.255]]\n"
     ]
    }
   ],
   "source": [
    "rho_sum = rho + rho\n",
    "\n",
    "g = G.sample()\n",
    "print(rho(g))\n",
    "print()\n",
    "print(rho_sum(g))"
   ]
  },
  {
   "cell_type": "code",
   "execution_count": 18,
   "metadata": {},
   "outputs": [
    {
     "data": {
      "text/plain": [
       "(2, 4)"
      ]
     },
     "execution_count": 18,
     "metadata": {},
     "output_type": "execute_result"
    }
   ],
   "source": [
    "rho.size, rho_sum.size\n"
   ]
  },
  {
   "cell_type": "code",
   "execution_count": 19,
   "metadata": {},
   "outputs": [
    {
     "data": {
      "text/plain": [
       "8"
      ]
     },
     "execution_count": 19,
     "metadata": {},
     "output_type": "execute_result"
    }
   ],
   "source": [
    "rho_sum = rho + rho + rho + rho\n",
    "\n",
    "# or, more simply:\n",
    "rho_sum = directsum([rho, rho, rho, rho])\n",
    "rho_sum.size"
   ]
  },
  {
   "cell_type": "code",
   "execution_count": 24,
   "metadata": {},
   "outputs": [],
   "source": [
    "G = cyclic_group(8)\n",
    "rho = G.regular_representation"
   ]
  },
  {
   "cell_type": "code",
   "execution_count": 25,
   "metadata": {},
   "outputs": [
    {
     "data": {
      "text/plain": [
       "8"
      ]
     },
     "execution_count": 25,
     "metadata": {},
     "output_type": "execute_result"
    }
   ],
   "source": [
    "rho.size"
   ]
  },
  {
   "cell_type": "code",
   "execution_count": 26,
   "metadata": {},
   "outputs": [
    {
     "data": {
      "text/plain": [
       "array([[ 1.,  0., -0.,  0., -0., -0.,  0., -0.],\n",
       "       [ 0.,  1.,  0., -0., -0., -0., -0., -0.],\n",
       "       [-0.,  0.,  1., -0., -0.,  0., -0.,  0.],\n",
       "       [ 0., -0., -0.,  1.,  0., -0., -0., -0.],\n",
       "       [-0., -0., -0.,  0.,  1.,  0., -0., -0.],\n",
       "       [-0., -0.,  0., -0.,  0.,  1., -0.,  0.],\n",
       "       [ 0., -0., -0., -0., -0., -0.,  1., -0.],\n",
       "       [-0., -0.,  0., -0., -0.,  0., -0.,  1.]])"
      ]
     },
     "execution_count": 26,
     "metadata": {},
     "output_type": "execute_result"
    }
   ],
   "source": [
    "rho(G.identity)"
   ]
  },
  {
   "cell_type": "code",
   "execution_count": 27,
   "metadata": {},
   "outputs": [
    {
     "data": {
      "text/plain": [
       "array([[ 0., -0.,  0., -0., -0.,  0., -0.,  1.],\n",
       "       [ 1.,  0., -0., -0., -0., -0.,  0., -0.],\n",
       "       [-0.,  1.,  0., -0.,  0., -0., -0., -0.],\n",
       "       [-0.,  0.,  1.,  0., -0.,  0., -0.,  0.],\n",
       "       [-0., -0., -0.,  1.,  0., -0.,  0., -0.],\n",
       "       [-0.,  0., -0.,  0.,  1.,  0.,  0., -0.],\n",
       "       [-0., -0., -0., -0.,  0.,  1.,  0.,  0.],\n",
       "       [-0.,  0., -0., -0.,  0., -0.,  1.,  0.]])"
      ]
     },
     "execution_count": 27,
     "metadata": {},
     "output_type": "execute_result"
    }
   ],
   "source": [
    "rho(G.element(1))\n"
   ]
  },
  {
   "cell_type": "code",
   "execution_count": 28,
   "metadata": {},
   "outputs": [
    {
     "data": {
      "text/plain": [
       "array([1., 0., 0., 0., 0., 0., 0., 0.])"
      ]
     },
     "execution_count": 28,
     "metadata": {},
     "output_type": "execute_result"
    }
   ],
   "source": [
    "f = np.zeros(8)\n",
    "f[0] = 1\n",
    "f"
   ]
  },
  {
   "cell_type": "code",
   "execution_count": 29,
   "metadata": {},
   "outputs": [
    {
     "data": {
      "text/plain": [
       "array([ 1.,  0., -0.,  0., -0., -0.,  0., -0.])"
      ]
     },
     "execution_count": 29,
     "metadata": {},
     "output_type": "execute_result"
    }
   ],
   "source": [
    "rho(G.identity) @ f\n"
   ]
  },
  {
   "cell_type": "code",
   "execution_count": 30,
   "metadata": {},
   "outputs": [],
   "source": [
    "from escnn import group\n",
    "from escnn import gspaces\n",
    "from escnn import nn"
   ]
  },
  {
   "cell_type": "code",
   "execution_count": 31,
   "metadata": {},
   "outputs": [
    {
     "data": {
      "text/plain": [
       "C4_on_R2[(None, 4)]"
      ]
     },
     "execution_count": 31,
     "metadata": {},
     "output_type": "execute_result"
    }
   ],
   "source": [
    "r2_act = gspaces.rot2dOnR2(N=4)\n",
    "r2_act"
   ]
  },
  {
   "cell_type": "code",
   "execution_count": 32,
   "metadata": {},
   "outputs": [
    {
     "data": {
      "text/plain": [
       "C4"
      ]
     },
     "execution_count": 32,
     "metadata": {},
     "output_type": "execute_result"
    }
   ],
   "source": [
    "# we can access the group G as\n",
    "G = r2_act.fibergroup\n",
    "G"
   ]
  },
  {
   "cell_type": "code",
   "execution_count": 33,
   "metadata": {},
   "outputs": [
    {
     "data": {
      "text/plain": [
       "[C4_on_R2[(None, 4)]: {regular (x1)}(4)]"
      ]
     },
     "execution_count": 33,
     "metadata": {},
     "output_type": "execute_result"
    }
   ],
   "source": [
    "feat_type = nn.FieldType(r2_act, [G.regular_representation])\n",
    "feat_type"
   ]
  },
  {
   "cell_type": "code",
   "execution_count": 34,
   "metadata": {},
   "outputs": [
    {
     "data": {
      "text/plain": [
       "array([[-0., -0.,  1.,  0.],\n",
       "       [ 0., -0., -0.,  1.],\n",
       "       [ 1.,  0., -0., -0.],\n",
       "       [ 0.,  1.,  0., -0.]])"
      ]
     },
     "execution_count": 34,
     "metadata": {},
     "output_type": "execute_result"
    }
   ],
   "source": [
    "G.regular_representation(G.sample())\n"
   ]
  },
  {
   "cell_type": "code",
   "execution_count": 35,
   "metadata": {},
   "outputs": [
    {
     "data": {
      "text/plain": [
       "[C4_on_R2[(None, 4)]: {regular (x3)}(12)]"
      ]
     },
     "execution_count": 35,
     "metadata": {},
     "output_type": "execute_result"
    }
   ],
   "source": [
    "feat_type = nn.FieldType(r2_act, [G.regular_representation]*3)\n",
    "feat_type"
   ]
  },
  {
   "cell_type": "code",
   "execution_count": 36,
   "metadata": {},
   "outputs": [],
   "source": [
    "feat_type_in = nn.FieldType(r2_act, [r2_act.trivial_repr])\n",
    "feat_type_out = nn.FieldType(r2_act, [r2_act.regular_repr]*3)"
   ]
  },
  {
   "cell_type": "code",
   "execution_count": 37,
   "metadata": {},
   "outputs": [
    {
     "ename": "AttributeError",
     "evalue": "module 'escnn.nn' has no attribute 'R2Conv'",
     "output_type": "error",
     "traceback": [
      "\u001b[0;31m---------------------------------------------------------------------------\u001b[0m",
      "\u001b[0;31mAttributeError\u001b[0m                            Traceback (most recent call last)",
      "Cell \u001b[0;32mIn[37], line 1\u001b[0m\n\u001b[0;32m----> 1\u001b[0m conv \u001b[39m=\u001b[39m nn\u001b[39m.\u001b[39;49mR2Conv(feat_type_in, feat_type_out, kernel_size\u001b[39m=\u001b[39m\u001b[39m3\u001b[39m)\n",
      "\u001b[0;31mAttributeError\u001b[0m: module 'escnn.nn' has no attribute 'R2Conv'"
     ]
    }
   ],
   "source": [
    "conv = nn.R2Conv(feat_type_in, feat_type_out, kernel_size=3)\n"
   ]
  },
  {
   "cell_type": "code",
   "execution_count": null,
   "metadata": {},
   "outputs": [],
   "source": []
  }
 ],
 "metadata": {
  "kernelspec": {
   "display_name": "venv",
   "language": "python",
   "name": "python3"
  },
  "language_info": {
   "codemirror_mode": {
    "name": "ipython",
    "version": 3
   },
   "file_extension": ".py",
   "mimetype": "text/x-python",
   "name": "python",
   "nbconvert_exporter": "python",
   "pygments_lexer": "ipython3",
   "version": "3.9.16"
  },
  "orig_nbformat": 4
 },
 "nbformat": 4,
 "nbformat_minor": 2
}
