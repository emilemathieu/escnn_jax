{
 "cells": [
  {
   "attachments": {},
   "cell_type": "markdown",
   "metadata": {
    "collapsed": true
   },
   "source": [
    "# E(n)-Equivariant Steerable CNNs  -  Hands-on tutorial"
   ]
  },
  {
   "attachments": {},
   "cell_type": "markdown",
   "metadata": {},
   "source": [
    "We start by importing the necessary packages. The user typically only needs to interact with the high level functionalities provided in the subpackages `escnn.gspaces` and `escnn.nn`."
   ]
  },
  {
   "cell_type": "code",
   "execution_count": 1,
   "metadata": {},
   "outputs": [
    {
     "name": "stdout",
     "output_type": "stream",
     "text": [
      "setGPU: Setting GPU to: 1\n"
     ]
    }
   ],
   "source": [
    "import setGPU\n",
    "import jax\n",
    "import jax.numpy as jnp\n",
    "from jaxtyping import Array, PRNGKeyArray\n",
    "import equinox as eqx\n",
    "\n",
    "from escnn_jax import gspaces\n",
    "from escnn_jax import nn\n",
    "\n",
    "import numpy as np\n",
    "np.set_printoptions(precision=3, linewidth=10000, suppress=True)\n",
    "\n",
    "key = jax.random.PRNGKey(0)"
   ]
  },
  {
   "attachments": {},
   "cell_type": "markdown",
   "metadata": {},
   "source": [
    "## Basic Examples\n",
    "\n",
    "Throughout the whole tutorial we consider data which is given as a signal on the plane $\\mathbb{R}^2$, for instance images.\n",
    "We formalize such signals as **feature vector fields**, i.e. functions\n",
    "$$ f: \\mathbb{R}^2 \\to \\mathbb{R}^c $$\n",
    "\n",
    "which assign a $c$-dimensional feature vector $f(x)\\in\\mathbb{R}^c$ to each spatial position $x\\in\\mathbb{R}^2$.\n",
    "\n",
    "The plane $\\mathbb{R}^2$ has many symmetries which can be exploited by equivariant CNNs.\n",
    "Our library focuses on exploiting **isometries**, i.e. distance preserving transformations.\n",
    "Specifically for $\\mathbb{R}^2$, the isometries are formalized by the **Euclidean group** $E(2)$ which consists of *translations*, *rotations* and *reflections*.\n",
    "\n",
    "E(2) steerable CNNs can adaptively choose the level of symmetries which they respect.\n",
    "Since we are choosing a *convolutional* network design, all models will be equivariant under translations.\n",
    "The open choice is therefore in the level of point symmetries (here reflections and rotations) which are being considered.\n",
    "All of these choices are subgroups $G\\leq O(2)$ of the orthogonal group.\n",
    "For simplicity, we will in the following consider a the cyclic subgroup $C_4$, which models the $4$ *rotations* which are multiples of $\\frac{\\pi}{2}$, that is, $\\big\\{0, \\frac{\\pi}{2}, \\pi, \\frac{3\\pi}{2}\\big\\}$.\n",
    "Because these are perfect symmetries of the grid, transforming an image with this group does not require any interpolation.\n",
    "\n",
    "We determine both the **point group** and its **action on the space** by instantiating a subclass of `gspace.GSpace`.\n",
    "For the rotational action of $G=C_4$ on $\\mathbb{R}^2$ this is done by:"
   ]
  },
  {
   "cell_type": "code",
   "execution_count": 2,
   "metadata": {},
   "outputs": [],
   "source": [
    "r2_act = gspaces.rot2dOnR2(N=4)"
   ]
  },
  {
   "attachments": {},
   "cell_type": "markdown",
   "metadata": {},
   "source": [
    "Having specified the symmetry transformation on the *base space* $\\mathbb{R}^2$, we next need define how the signals sampled on this space transform under the action of $G$.\n",
    "This transformation law of feature fields is implemented as a **FieldType**.\n",
    "\n",
    "Each single feature space (layer) of E(n) steerable CNNs has its own transformation law which the user needs to specify.\n",
    "The transformation law of the network *input* and *output* is typically determined by the inference task.\n",
    "\n",
    "As a trivial, yet important example we consider the case of gray-scale images as network input.\n",
    "A rotation of a gray-scale image is performed by moving each pixel to a new position without changing their intensity values.\n",
    "The invariance of the scalar pixel values under rotations is modeled by the **trivial representation** $\\rho:G\\to\\operatorname{GL}(1),\\ g\\mapsto(1)$ of $G$ and identifies them as **scalar fields**.\n",
    "Formally, a scalar field is a function $f: \\mathbb{R}^2 \\to \\mathbb{R}$ mapping to a feature vector with $c=1$ channels.\n",
    "A rotation by an angle $\\theta \\in C_4$ transforms this scalar field as\n",
    "\n",
    "$$ \\big[\\mathcal{R}_{\\theta}\\, f\\big](x)\n",
    "   \\ :=\\ \\rho(\\theta)\\,f\\big(\\psi(-\\theta)x\\big)\n",
    "   \\ =\\ 1\\cdot f\\big(\\psi(-\\theta)x\\big)\n",
    "   \\ =\\ f\\big(\\psi(-\\theta)x\\big),$$\n",
    "\n",
    "where $\\mathcal{R}$ is the rotation operator acting on the field and $\\psi(\\theta)\\in SO(2)$ is a rotation matrix.\n",
    "\n",
    "We instantiate the `nn.FieldType` modeling a gray-scale image by passing it the `gspaces.GSpace` instance and the trivial representation.\n",
    "The latter is passed as a *list of representations* which allows for feature spaces that comprise multiple independent feature fields as used in the hidden layers later on."
   ]
  },
  {
   "cell_type": "code",
   "execution_count": 3,
   "metadata": {},
   "outputs": [],
   "source": [
    "feat_type_in = nn.FieldType(r2_act, [r2_act.trivial_repr])"
   ]
  },
  {
   "attachments": {},
   "cell_type": "markdown",
   "metadata": {},
   "source": [
    "When we build a model **equivariant** to a group $G$, we require that the output produced by the model transforms consistently when the input transforms under the action of an element $g \\in G$.\n",
    "For a function $F$ (e.g. a neural network), the **equivariance constraint** requires:\n",
    "\n",
    "$$ \\mathcal{T}^\\text{out}_g \\big[F(x)\\big]\\ =\\ F\\big(\\mathcal{T}^\\text{in}_g[x]\\big) \\quad \\forall g\\in G$$\n",
    "\n",
    "where $\\mathcal{T}^\\text{in}_g$ is the transformation of the input by the group element $g$ while $\\mathcal{T}^\\text{out}_g$ is the transformation of the output by the same element.\n",
    "We have already defined $\\mathcal{T}^\\text{in}$ by the *field type* `feat_type_in`. \n",
    "The transformation law $\\mathcal{T}^\\text{out}$ of the output of the first layer is similarly chosen by defining an instance `feat_type_out` of `nn.FieldType`.\n",
    "\n",
    "Instead of scalar feature fields, we often choose so called **regular feature fields** $f:\\mathbb{R}^2\\to\\mathbb{R}^{|G|}$ in the hidden layers of the model.\n",
    "These fields correspond to *group convolutions* and are empirically found to work best in most cases.\n",
    "Regular feature fields associate a feature vector of dimensionality equal to the cardinality of $G$, in our case $|C_4|=4$, to each point.\n",
    "Their name comes from the fact that they transform under the **regular representation** $\\rho_\\text{reg}: G \\to \\operatorname{GL}\\big(\\mathbb{R}^{|G|}\\big)$ of $G$ which acts via permutations.\n",
    "Formally, a regular feature field thus transforms according to:\n",
    "\n",
    "$$ \\big[\\mathcal{R}_{\\theta}\\, f\\big](x)\\ :=\\ \\rho_\\text{reg}(\\theta)\\, f\\big(\\psi(-\\theta)x\\big)$$\n",
    "\n",
    "A feature space consisting of a single regular feature field is instantiated as before, with the only difference that the trivial representation is replaced by the regular representation:"
   ]
  },
  {
   "cell_type": "code",
   "execution_count": 4,
   "metadata": {},
   "outputs": [],
   "source": [
    "feat_type_out = nn.FieldType(r2_act, [r2_act.regular_repr])"
   ]
  },
  {
   "attachments": {},
   "cell_type": "markdown",
   "metadata": {},
   "source": [
    "As deep feature spaces typically comprise multiple independent features (equal to channels for conventional CNNs), we usually choose multiple feature fields.\n",
    "For example, we can use 3 regular fields.\n",
    "The full feature space is in this case modeled as a *stacked* field $f: \\mathbb{R}^2 \\to \\mathbb{R}^{3|G|}$ which transforms according to the **direct sum** of three regular representations:\n",
    "\n",
    "$$\\rho(\\theta)\n",
    "    \\ =\\ \\rho_\\text{reg}(\\theta) \\oplus \\rho_\\text{reg}(\\theta) \\oplus \\rho_\\text{reg}(\\theta)\n",
    "    \\ =\\ \\begin{bmatrix} \n",
    "            \\rho_\\text{reg}(\\theta) & 0 & 0 \\\\\n",
    "            0 & \\rho_\\text{reg}(\\theta) & 0 \\\\\n",
    "            0 & 0 & \\rho_\\text{reg}(\\theta) \\\\\n",
    "          \\end{bmatrix}\n",
    "          \\quad\\in\\ \\mathbb{R}^{3N \\times 3N}$$\n",
    "\n",
    "Intuitively, the direct sum simply builds a block diagonal representation of the three regular representations, which implies that the three regular fields transform independently from each other.\n",
    "\n",
    "We instantiate a `nn.FieldType` composed of 3 regular representations by passing the full field representation as a list of three regular representations:"
   ]
  },
  {
   "cell_type": "code",
   "execution_count": 5,
   "metadata": {},
   "outputs": [],
   "source": [
    "feat_type_out = nn.FieldType(r2_act, 1*[r2_act.regular_repr])"
   ]
  },
  {
   "attachments": {},
   "cell_type": "markdown",
   "metadata": {},
   "source": [
    "Once having defined how the input and output feature spaces should transform, we can build neural network functions as **equivariant modules**.\n",
    "These are implemented as subclasses of an abstract base class `nn.EquivariantModule` which itself inherits from `torch.nn.Module`.\n",
    "\n",
    "We start by instantiating a convolutional layer that maps between fields of types `feat_type_in` and `feat_type_out`:"
   ]
  },
  {
   "cell_type": "code",
   "execution_count": 6,
   "metadata": {},
   "outputs": [],
   "source": [
    "key, step_key = jax.random.split(key)\n",
    "conv = nn.R2Conv(feat_type_in, feat_type_out, kernel_size=3, key=step_key)"
   ]
  },
  {
   "attachments": {},
   "cell_type": "markdown",
   "metadata": {},
   "source": [
    "Each equivariant module has an input and output type.\n",
    "As a function (`.forward()`), it *requires* its inputs to transform according to its input type and is guaranteed to return feature fields associated with its output type.\n",
    "To prevent the user from accidentally feeding an incorrectly transforming input field into an equivariant module, we perform a dynamic type checking.\n",
    "In order to do so, we define **geometric tensors** as data containers.\n",
    "They are wrapping a *Jax* `jax.numpy.array` to augment them with an instance of `FieldType`.\n",
    "\n",
    "Let's build a few random 32x32 gray-scale images and wrap them into an `nn.GeometricTensor`:"
   ]
  },
  {
   "cell_type": "code",
   "execution_count": 7,
   "metadata": {},
   "outputs": [],
   "source": [
    "key, step_key = jax.random.split(key)\n",
    "x = jax.random.normal(step_key, (4, 1, 32, 32))\n",
    "x = feat_type_in(x)\n",
    "\n",
    "assert isinstance(x.tensor, Array)"
   ]
  },
  {
   "attachments": {},
   "cell_type": "markdown",
   "metadata": {},
   "source": [
    "As usually done in *Jax*, an image or feature map is stored in a 4-dimensional array of shape BxCxHxW, where B is the batch-size, C is the number of channels and W and H are the spatial dimensions."
   ]
  },
  {
   "attachments": {},
   "cell_type": "markdown",
   "metadata": {},
   "source": [
    "We can feed a geometric tensor to an equivariant module as we feed normal tensors in *Equinox*'s modules:"
   ]
  },
  {
   "cell_type": "code",
   "execution_count": 8,
   "metadata": {},
   "outputs": [],
   "source": [
    "y = conv(x)"
   ]
  },
  {
   "attachments": {},
   "cell_type": "markdown",
   "metadata": {},
   "source": [
    "We can verify that the output is indeed associated with the output type of the convolutional layer:"
   ]
  },
  {
   "cell_type": "code",
   "execution_count": 9,
   "metadata": {
    "scrolled": true
   },
   "outputs": [],
   "source": [
    "assert y.type == feat_type_out"
   ]
  },
  {
   "attachments": {},
   "cell_type": "markdown",
   "metadata": {},
   "source": [
    "Lets check whether the output transforms as described by the output type when the input transforms according to the input type.\n",
    "The $G$-transformation of a geometric tensor is hereby conveniently done by calling `nn.GeometricTensor.transform()`."
   ]
  },
  {
   "attachments": {},
   "cell_type": "markdown",
   "metadata": {},
   "source": []
  },
  {
   "cell_type": "code",
   "execution_count": 10,
   "metadata": {
    "scrolled": false
   },
   "outputs": [],
   "source": [
    "# for each group element\n",
    "for i, g in enumerate(r2_act.testing_elements):\n",
    "    if i == 0:\n",
    "        continue\n",
    "\n",
    "    # transform the input with the current group element according to the input type\n",
    "    x_transformed = x.transform(g)\n",
    "    \n",
    "    # feed the transformed input in the convolutional layer\n",
    "    y_from_x_transformed = conv(x_transformed)\n",
    "    \n",
    "    # the result should be equivalent to rotating the output produced in the \n",
    "    # previous block according to the output type\n",
    "    y_from_x_transformed = conv(x_transformed)\n",
    "    y_transformed_from_x = y.transform(g)\n",
    "    assert jnp.allclose(y_from_x_transformed.tensor, y_transformed_from_x.tensor, rtol=1e-5, atol=1e-5), g"
   ]
  },
  {
   "attachments": {},
   "cell_type": "markdown",
   "metadata": {},
   "source": [
    "Any network operation is required to be equivariant.\n",
    "`escnn.nn` provides a wide range of equivariant network modules which guarantee this behavior.\n",
    "\n",
    "As an example, we will next apply an **equivariant nonlinearity** to the output feature field of the convolution.\n",
    "For the specific case of regular representations, any pointwise nonlinearity like *ReLUs* are equivariant.\n",
    "Note that this is *not* the case for many other choices of representations / field types!\n",
    "\n",
    "We instantiate a `escnn.nn.ReLU`, which, as an `nn.EquivariantModule`, requires to be informed about its input type to be able to perform the type checking.\n",
    "Here we are passing `feat_type_out`, the output of the equivariant convolution layer, as input type.\n",
    "It is not necessary to pass an output type to the nonlinearity since this is here determined by its input type."
   ]
  },
  {
   "cell_type": "code",
   "execution_count": 11,
   "metadata": {},
   "outputs": [],
   "source": [
    "relu = nn.ReLU(feat_type_out)\n",
    "\n",
    "z = relu(y)"
   ]
  },
  {
   "attachments": {},
   "cell_type": "markdown",
   "metadata": {},
   "source": [
    "We can verify the equivariance again:"
   ]
  },
  {
   "cell_type": "code",
   "execution_count": 12,
   "metadata": {},
   "outputs": [],
   "source": [
    "# for each group element\n",
    "for g in r2_act.testing_elements:\n",
    "    y_transformed = y.transform(g)\n",
    "    z_from_y_transformed = relu(y_transformed)\n",
    "    \n",
    "    z_transformed_from_y = z.transform(g)\n",
    "    \n",
    "    assert jnp.allclose(z_from_y_transformed.tensor, z_transformed_from_y.tensor, atol=1e-5), g"
   ]
  },
  {
   "attachments": {},
   "cell_type": "markdown",
   "metadata": {},
   "source": [
    "In *deep learning* we usually want to stack multiple layers to build a deep model.\n",
    "As long as each layer is equivariant and consecutive layers are compatible, the equivariance property is preserved by induction.\n",
    "\n",
    "The compatibility of two consecutive layers requires the output type of the first layer to be equal to the input type of the second layer.\n",
    "\n",
    "In case we feed an input with the wrong type to a module, an error is raised:"
   ]
  },
  {
   "cell_type": "code",
   "execution_count": 13,
   "metadata": {},
   "outputs": [
    {
     "name": "stdout",
     "output_type": "stream",
     "text": [
      "Error! the type of the input does not match the input type of this module\n"
     ]
    }
   ],
   "source": [
    "key, step_key = jax.random.split(key)\n",
    "layer1 = nn.R2Conv(feat_type_in, feat_type_out, kernel_size=3, key=step_key)\n",
    "layer2 = nn.ReLU(feat_type_in) # the input type of the ReLU should be the output type of the convolution\n",
    "\n",
    "key, step_key = jax.random.split(key)\n",
    "x = jax.random.normal(step_key, (3, 1, 7, 7))\n",
    "x = feat_type_in(x)\n",
    "\n",
    "try:\n",
    "    y = layer2(layer1(x))\n",
    "except AssertionError as e:\n",
    "    print(e)"
   ]
  },
  {
   "attachments": {},
   "cell_type": "markdown",
   "metadata": {},
   "source": [
    "Simple deeper architectures can be built using a **SequentialModule**:"
   ]
  },
  {
   "cell_type": "code",
   "execution_count": 27,
   "metadata": {},
   "outputs": [],
   "source": [
    "feat_type_in = nn.FieldType(r2_act, [r2_act.trivial_repr])\n",
    "feat_type_hid = nn.FieldType(r2_act, 8*[r2_act.regular_repr])\n",
    "feat_type_out = nn.FieldType(r2_act, 2*[r2_act.regular_repr])\n",
    "\n",
    "key, key1, key2, key3 = jax.random.split(key, 4)\n",
    "\n",
    "model = nn.SequentialModule(\n",
    "    nn.R2Conv(feat_type_in, feat_type_hid, kernel_size=3, key=key1),\n",
    "    nn.InnerBatchNorm(feat_type_hid),\n",
    "    nn.ReLU(feat_type_hid),\n",
    "    nn.R2Conv(feat_type_hid, feat_type_hid, kernel_size=3, key=key2),\n",
    "    nn.InnerBatchNorm(feat_type_hid),\n",
    "    nn.ReLU(feat_type_hid),\n",
    "    nn.R2Conv(feat_type_hid, feat_type_out, kernel_size=3, key=key3),\n",
    ")#.eval()\n",
    "state = eqx.nn.State(model)\n"
   ]
  },
  {
   "attachments": {},
   "cell_type": "markdown",
   "metadata": {},
   "source": [
    "As every layer is equivariant and consecutive layers are compatible, the whole model is equivariant."
   ]
  },
  {
   "cell_type": "code",
   "execution_count": 15,
   "metadata": {},
   "outputs": [],
   "source": [
    "key, step_key = jax.random.split(key)\n",
    "x = jax.random.normal(step_key, (1, 1, 17, 17))\n",
    "x = feat_type_in(x)\n",
    "\n",
    "y, _ = model(x, state)\n",
    "\n",
    "# for each group element\n",
    "for i, g in enumerate(r2_act.testing_elements):\n",
    "    x_transformed = x.transform(g)\n",
    "    y_from_x_transformed, _ = model(x_transformed, state)\n",
    "    \n",
    "    y_transformed_from_x = y.transform(g)\n",
    "    assert jnp.allclose(y_from_x_transformed.tensor, y_transformed_from_x.tensor, atol=1e-5), g"
   ]
  },
  {
   "attachments": {},
   "cell_type": "markdown",
   "metadata": {},
   "source": [
    "Usually, at the end of the model we want to produce a single feature vector to use for classification.\n",
    "To do so, it is common to pool over the spatial dimensions, e.g. through average pooling.\n",
    "\n",
    "This produces (approximately) translation-invariant feature vectors."
   ]
  },
  {
   "cell_type": "code",
   "execution_count": 16,
   "metadata": {},
   "outputs": [
    {
     "name": "stdout",
     "output_type": "stream",
     "text": [
      "(1, 8, 1, 1)\n"
     ]
    }
   ],
   "source": [
    "avgpool = nn.PointwiseAvgPool(feat_type_out, 11)\n",
    "\n",
    "y = avgpool(model(x, state)[0])\n",
    "\n",
    "print(y.shape)"
   ]
  },
  {
   "attachments": {},
   "cell_type": "markdown",
   "metadata": {},
   "source": [
    "In our case, the feature vectors $f(x)\\in\\mathbb{R}^c$ associated to each point $x\\in\\mathbb{R}^2$ have a well defined transformation law.\n",
    "The output of the model now transforms according to `feat_type_out` (here two $C_4$ regular fields, i.e. 8 channels).\n",
    "For our choice of regular representations (which are permutation representations) the channels in the feature vectors associated to each point permute when the input is rotated."
   ]
  },
  {
   "cell_type": "code",
   "execution_count": 17,
   "metadata": {},
   "outputs": [
    {
     "name": "stdout",
     "output_type": "stream",
     "text": [
      "rotation by 0*pi/2: [ 0.64   0.654  0.646  0.599 -0.373 -0.381 -0.321 -0.329]\n",
      "rotation by 1*pi/2: [ 0.599  0.64   0.654  0.646 -0.329 -0.373 -0.381 -0.321]\n",
      "rotation by 2*pi/2: [ 0.646  0.599  0.64   0.654 -0.321 -0.329 -0.373 -0.381]\n",
      "rotation by 3*pi/2: [ 0.654  0.646  0.599  0.64  -0.381 -0.321 -0.329 -0.373]\n"
     ]
    }
   ],
   "source": [
    "for i in range(4):\n",
    "    g = r2_act.fibergroup.element(i)\n",
    "    print(f'rotation by {i}*pi/2:', y.transform(g).tensor[0, ...].squeeze())"
   ]
  },
  {
   "attachments": {},
   "cell_type": "markdown",
   "metadata": {},
   "source": [
    "Many learning tasks require to build models which are **invariant** under rotations.\n",
    "We can compute invariant features from the output of the model using an **invariant map**.\n",
    "For instance, we can take the maximum value within each regular field.\n",
    "We do so using `nn.GroupPooling`:"
   ]
  },
  {
   "cell_type": "code",
   "execution_count": 18,
   "metadata": {},
   "outputs": [
    {
     "name": "stdout",
     "output_type": "stream",
     "text": [
      "rotation by 0*pi/2: [ 0.654 -0.321]\n",
      "rotation by 1*pi/2: [ 0.654 -0.321]\n",
      "rotation by 2*pi/2: [ 0.654 -0.321]\n",
      "rotation by 3*pi/2: [ 0.654 -0.321]\n"
     ]
    }
   ],
   "source": [
    "invariant_map = nn.GroupPooling(feat_type_out)\n",
    "\n",
    "y = invariant_map(avgpool(model(x)))\n",
    "\n",
    "for i in range(4):\n",
    "    g = r2_act.fibergroup.element(i)\n",
    "    print(f'rotation by {i}*pi/2:', y.transform(g).tensor[0, ...].squeeze())"
   ]
  },
  {
   "cell_type": "code",
   "execution_count": 19,
   "metadata": {},
   "outputs": [],
   "source": [
    "# for each group element\n",
    "for g in r2_act.testing_elements:\n",
    "    # rotated the input image\n",
    "    x_transformed = x.transform(g)\n",
    "    y_from_x_transformed = invariant_map(avgpool(model(x_transformed)))\n",
    "    \n",
    "    y_transformed_from_x = y # no .transform(g) needed since y should be invariant!\n",
    "    \n",
    "    # check that the output did not change\n",
    "    # note that here we are not rotating the original output y as before\n",
    "    assert jnp.allclose(y_from_x_transformed.tensor, y_transformed_from_x.tensor, atol=1e-6), g"
   ]
  },
  {
   "attachments": {},
   "cell_type": "markdown",
   "metadata": {},
   "source": [
    "## Other Field Types"
   ]
  },
  {
   "attachments": {},
   "cell_type": "markdown",
   "metadata": {},
   "source": [
    "Besides scalar fields and regular fields, many other types of feature fields exist.\n",
    "\n",
    "An example of practical importance are (tangent) **vector fields** which model for instance an optical flow fields.\n",
    "On the plane, a vector field\n",
    "$$f: \\mathbb{R}^2 \\to \\mathbb{R}^2$$\n",
    "\n",
    "associates a 2-dimensional (tangent) vector to each position.\n",
    "Under rotations a vector field transforms by:\n",
    "1. moving each vector to a new location\n",
    "2. rotating the vectors themself\n",
    "\n",
    "Together, the $G$-transformation of a vector field is therefore given by\n",
    "\n",
    "$$ \\big[\\mathcal{R}_{\\theta}\\, f\\big](x)\n",
    "   \\ :=\\ \\psi(\\theta\\,)\\, f\\big(\\psi(-\\theta)x\\big),$$\n",
    "\n",
    "that is, the representation $\\rho(\\theta)$ coincides with the rotation matrix\n",
    "$\\psi(\\theta) = \\begin{bmatrix} \\cos(\\theta) & \\sin(\\theta) \\\\ -\\sin(\\theta) & \\cos(\\theta) \\end{bmatrix} \\in SO(2)$ itself.\n",
    "\n",
    "In general, the *type* of a feature field is in one-to-one correspondence with a choice of group representation $\\rho:G\\to\\operatorname{GL}(\\mathbb{R}^c)$ which describes how the feature vectors transform under the action of $G$.\n",
    "`escnn` implements **irreducible representations** (irreps), **regular representations**, **quotient representations** and **induced representations** and provides an interface to construct any other choice of representation.\n",
    "For more information we refer to the\n",
    "[docs](https://quva-lab.github.io/escnn/api/escnn.group.html#representations)\n",
    "and to Section 2.6 of our\n",
    "[paper](https://arxiv.org/pdf/1911.08251.pdf)."
   ]
  },
  {
   "attachments": {},
   "cell_type": "markdown",
   "metadata": {},
   "source": [
    "For now, let us return to the example of (tangent) vector fields.\n",
    "The rotation matrix representation $\\psi$ of the cyclic group $G=C_4$ is identical to the *irreducible representation* (irrep) of $C_4$ with frequency $1$.\n",
    "To specify a vector field as output, we therefore have to pass this irrep to the `FieldType`:"
   ]
  },
  {
   "cell_type": "code",
   "execution_count": 20,
   "metadata": {},
   "outputs": [],
   "source": [
    "feat_type_out = nn.FieldType(r2_act, [r2_act.irrep(1)])"
   ]
  },
  {
   "attachments": {},
   "cell_type": "markdown",
   "metadata": {},
   "source": [
    "To verify that the output field indeed transforms as a *vector field*, we build a simple model which maps a random scalar field to a vector field and apply it to rotated versions of the scalar input field.\n",
    "As expected, the output vector field transforms by moving each vector to a new position and rotating them."
   ]
  },
  {
   "cell_type": "code",
   "execution_count": 25,
   "metadata": {
    "scrolled": true
   },
   "outputs": [
    {
     "data": {
      "image/png": "[encoded data removed]",
      "text/plain": [
       "<Figure size 1600x400 with 4 Axes>"
      ]
     },
     "metadata": {},
     "output_type": "display_data"
    }
   ],
   "source": [
    "import matplotlib.pyplot as plt\n",
    "import numpy as np\n",
    "\n",
    "feat_type_in = nn.FieldType(r2_act, [r2_act.trivial_repr])\n",
    "feat_type_hid = nn.FieldType(r2_act, 8*[r2_act.regular_repr])\n",
    "\n",
    "key, key1, key2, key3 = jax.random.split(key, 4)\n",
    "model = nn.SequentialModule(\n",
    "    nn.R2Conv(feat_type_in, feat_type_hid, kernel_size=3, key=key1),\n",
    "    # nn.InnerBatchNorm(feat_type_hid),\n",
    "    nn.ReLU(feat_type_hid),\n",
    "    nn.R2Conv(feat_type_hid, feat_type_hid, kernel_size=3, key=key2),\n",
    "    # nn.InnerBatchNorm(feat_type_hid),\n",
    "    nn.ReLU(feat_type_hid),\n",
    "    nn.R2Conv(feat_type_hid, feat_type_out, kernel_size=3, key=key3),\n",
    ").eval()\n",
    "\n",
    "S = 11\n",
    "key, step_key = jax.random.split(key)\n",
    "x = jax.random.normal(step_key, (1, 1, S, S))\n",
    "x = feat_type_in(x)\n",
    "\n",
    "fig, axs = plt.subplots(1, r2_act.fibergroup.order(), sharex=True, sharey=True, figsize=(16, 4))\n",
    "\n",
    "X, Y = np.meshgrid(range(S-6), range(S-7, -1, -1))\n",
    "\n",
    "# for each group element\n",
    "for i, g in enumerate(r2_act.testing_elements):\n",
    "    # transform the input\n",
    "    x_transformed = x.transform(g)\n",
    "\n",
    "    y = model(x_transformed)\n",
    "    y = np.array(y.tensor).squeeze()\n",
    "    \n",
    "    # plot the output vector field\n",
    "    axs[i].quiver(X, Y, y[0, ...], y[1, ...], units='xy')\n",
    "    axs[i].set_title(g.to('int')*90)\n",
    "    \n",
    "plt.show()\n"
   ]
  },
  {
   "attachments": {},
   "cell_type": "markdown",
   "metadata": {},
   "source": [
    "We want to mention that vector fields can not be acted on by ReLU nonlinearities since this mapping would not be equivariant.\n",
    "To see this, consider a vector $(1,0)^T$ which under a rotation by $\\pi$ transforms to $(-1,0)^T$.\n",
    "Acting on the former by a ReLU returns the vector itself while the latter will be projected to the origin such that all information of the feature is lost.\n",
    "\n",
    "As an alternative, we can apply nonlinearities which solely act on the *norm* of the vector but not on its orientation.\n",
    "Since the vectors rotate under the action of $C_4$, both operations commute which means that such\n",
    "[NormNonLinearities](https://quva-lab.github.io/escnn/api/escnn.nn.html#normnonlinearity)\n",
    "are equivariant for this field type.\n",
    "For instance, we can apply so called *norm-ReLUs*:"
   ]
  },
  {
   "cell_type": "code",
   "execution_count": 26,
   "metadata": {},
   "outputs": [],
   "source": [
    "norm_relu = nn.NormNonLinearity(feat_type_out, 'n_relu')\n",
    "\n",
    "y = norm_relu(model(x))\n",
    "\n",
    "for g in r2_act.testing_elements:\n",
    "    x_transformed = x.transform(g)\n",
    "    y_from_x_transformed = norm_relu(model(x_transformed))\n",
    "    \n",
    "    y_transformed_from_x = y.transform(g)\n",
    "    \n",
    "    assert jnp.allclose(y_from_x_transformed.tensor, y_transformed_from_x.tensor, atol=1e-5), g"
   ]
  },
  {
   "attachments": {},
   "cell_type": "markdown",
   "metadata": {},
   "source": [
    "## Mixed Feature Fields"
   ]
  },
  {
   "attachments": {},
   "cell_type": "markdown",
   "metadata": {},
   "source": [
    "Our implementation allows for different feature field types in a feature space.\n",
    "To achieve this, one simply has to pass a list of different representations when instantiating the `FieldType`.\n",
    "As an example, let's build a feature field with 2 scalar fields, 2 regular fields and 1 vector field:"
   ]
  },
  {
   "cell_type": "code",
   "execution_count": null,
   "metadata": {},
   "outputs": [],
   "source": [
    "feat_type_out = nn.FieldType(r2_act, 2*[r2_act.trivial_repr] + 2*[r2_act.regular_repr] + 1*[r2_act.irrep(1)])"
   ]
  },
  {
   "attachments": {},
   "cell_type": "markdown",
   "metadata": {},
   "source": [
    "or equivalently"
   ]
  },
  {
   "cell_type": "code",
   "execution_count": null,
   "metadata": {},
   "outputs": [],
   "source": [
    "scalar_fields = nn.FieldType(r2_act, 2*[r2_act.trivial_repr])\n",
    "regular_fields = nn.FieldType(r2_act, 2*[r2_act.regular_repr])\n",
    "vector_field = nn.FieldType(r2_act, 1*[r2_act.irrep(1)])\n",
    "feat_type_out = scalar_fields + regular_fields + vector_field"
   ]
  },
  {
   "attachments": {},
   "cell_type": "markdown",
   "metadata": {},
   "source": [
    "While the convolution layers can deal with mixed field types automatically, some additional care is needed when we apply non-linearities to mixed field types since these might not all allow for the same nonlinearity.\n",
    "\n",
    "In the example above, we can apply ReLUs to the scalar and regular fields but we need to apply e.g. Norm-ReLUs to the vector field.\n",
    "This can be achieved by using\n",
    "[`MultipleModule`](https://quva-lab.github.io/escnn/api/escnn.nn.html#escnn.nn.MultipleModule)s\n",
    "which split the input tensor into multiple branches, associating a different label to each of them.\n",
    "Each branch is then being acted on by its own module, here an `nn.ReLU` for the `'relu'` branch and an `nn.NormNonLinearity` for the `'norm'` branch.\n",
    "The output of the module is merged back together automatically."
   ]
  },
  {
   "cell_type": "code",
   "execution_count": null,
   "metadata": {},
   "outputs": [],
   "source": [
    "relu = nn.ReLU(scalar_fields + regular_fields)\n",
    "norm_relu = nn.NormNonLinearity(vector_field)\n",
    "\n",
    "nonlinearity = nn.MultipleModule(\n",
    "                    feat_type_out,\n",
    "                    ['relu']*len(scalar_fields+regular_fields) + ['norm']*len(vector_field),\n",
    "                    [(relu, 'relu'), (norm_relu, 'norm')]\n",
    ")"
   ]
  },
  {
   "attachments": {},
   "cell_type": "markdown",
   "metadata": {},
   "source": [
    "We once again verify that this operation is $C_4$-equivariant:"
   ]
  },
  {
   "cell_type": "code",
   "execution_count": null,
   "metadata": {},
   "outputs": [],
   "source": [
    "model = nn.SequentialModule(\n",
    "    nn.R2Conv(feat_type_in, feat_type_hid, kernel_size=3),\n",
    "    # nn.InnerBatchNorm(feat_type_hid),\n",
    "    nn.ReLU(feat_type_hid),\n",
    "    nn.R2Conv(feat_type_hid, feat_type_out, kernel_size=3),\n",
    "    nonlinearity,\n",
    ").eval()\n",
    "\n",
    "key, step_key = jax.random.split(key)\n",
    "x = jax.random.normal(step_key, (1, 1, 17, 17))\n",
    "x = feat_type_in(x)\n",
    "\n",
    "y = model(x)\n",
    "\n",
    "for g in r2_act.testing_elements:\n",
    "    x_transformed = x.transform(g)\n",
    "    y_from_x_transformed = model(x_transformed)\n",
    "    \n",
    "    y_transformed_from_x = y.transform(g)\n",
    "    \n",
    "    assert jnp.allclose(y_from_x_transformed.tensor, y_transformed_from_x.tensor, atol=1e-5), g"
   ]
  }
 ],
 "metadata": {
  "kernelspec": {
   "display_name": "Python 3",
   "language": "python",
   "name": "python3"
  },
  "language_info": {
   "codemirror_mode": {
    "name": "ipython",
    "version": 3
   },
   "file_extension": ".py",
   "mimetype": "text/x-python",
   "name": "python",
   "nbconvert_exporter": "python",
   "pygments_lexer": "ipython3",
   "version": "3.9.16"
  },
  "pycharm": {
   "stem_cell": {
    "cell_type": "raw",
    "metadata": {
     "collapsed": false
    },
    "source": []
   }
  }
 },
 "nbformat": 4,
 "nbformat_minor": 2
}
